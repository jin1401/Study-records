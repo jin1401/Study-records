{
 "cells": [
  {
   "cell_type": "markdown",
   "metadata": {},
   "source": [
    "# Battery Remaining Life Prediction feat. Deep Learning\n",
    "\n",
    "---\n",
    "This code only works at google Colab.\n",
    "(If you can do it on your local app, thats fine, for me it was better option).\n",
    "\n",
    "You must put 3 battery data on your google drive.\n",
    "\n",
    "Data we use is at : https://data.matr.io/1/\n",
    "\n",
    "Data file type : .mat\n",
    "\n",
    "In this code that I used below, \n",
    "first I changed .mat to .pkl File\n",
    "and then I saved those file on google drive.\n",
    "\n",
    "참고 논문 : Data-driven prediction of battery cycle life before capacity degradation"
   ]
  },
  {
   "cell_type": "markdown",
   "metadata": {},
   "source": [
    "First code is converting .mat File to .pkl File"
   ]
  },
  {
   "cell_type": "code",
   "execution_count": null,
   "metadata": {
    "vscode": {
     "languageId": "plaintext"
    }
   },
   "outputs": [],
   "source": [
    "import h5py\n",
    "import scipy.io\n",
    "import matplotlib.pyplot as plt\n",
    "import numpy as np\n",
    "import pickle\n",
    "from google.colab import drive\n",
    "drive.mount('/content/drive')\n",
    "\n",
    "matFilename = '/content/drive/MyDrive/Colab Notebooks/2017-05-12_batchdata_updated_struct_errorcorrect.mat'\n",
    "\n",
    "f = h5py.File(matFilename)\n",
    "\n",
    "batch = f['batch']\n",
    "\n",
    "num_cells = batch['summary'].shape[0]\n",
    "bat_dict = {}\n",
    "for i in range(num_cells):\n",
    "    cl = f[batch['cycle_life'][i,0]][()]\n",
    "    policy = f[batch['policy_readable'][i,0]][()].tobytes()[::2].decode()\n",
    "    summary_IR = np.hstack(f[batch['summary'][i,0]]['IR'][0,:].tolist())\n",
    "    summary_QC = np.hstack(f[batch['summary'][i,0]]['QCharge'][0,:].tolist())\n",
    "    summary_QD = np.hstack(f[batch['summary'][i,0]]['QDischarge'][0,:].tolist())\n",
    "    summary_TA = np.hstack(f[batch['summary'][i,0]]['Tavg'][0,:].tolist())\n",
    "    summary_TM = np.hstack(f[batch['summary'][i,0]]['Tmin'][0,:].tolist())\n",
    "    summary_TX = np.hstack(f[batch['summary'][i,0]]['Tmax'][0,:].tolist())\n",
    "    summary_CT = np.hstack(f[batch['summary'][i,0]]['chargetime'][0,:].tolist())\n",
    "    summary_CY = np.hstack(f[batch['summary'][i,0]]['cycle'][0,:].tolist())\n",
    "    summary = {'IR': summary_IR, 'QC': summary_QC, 'QD': summary_QD, 'Tavg':\n",
    "                summary_TA, 'Tmin': summary_TM, 'Tmax': summary_TX, 'chargetime': summary_CT,\n",
    "                'cycle': summary_CY}\n",
    "    cycles = f[batch['cycles'][i,0]]\n",
    "    cycle_dict = {}\n",
    "    for j in range(cycles['I'].shape[0]):\n",
    "        I = np.hstack((f[cycles['I'][j,0]][()]))\n",
    "        Qc = np.hstack((f[cycles['Qc'][j,0]][()]))\n",
    "        Qd = np.hstack((f[cycles['Qd'][j,0]][()]))\n",
    "        Qdlin = np.hstack((f[cycles['Qdlin'][j,0]][()]))\n",
    "        T = np.hstack((f[cycles['T'][j,0]][()]))\n",
    "        Tdlin = np.hstack((f[cycles['Tdlin'][j,0]][()]))\n",
    "        V = np.hstack((f[cycles['V'][j,0]][()]))\n",
    "        dQdV = np.hstack((f[cycles['discharge_dQdV'][j,0]][()]))\n",
    "        t = np.hstack((f[cycles['t'][j,0]][()]))\n",
    "        cd = {'I': I, 'Qc': Qc, 'Qd': Qd, 'Qdlin': Qdlin, 'T': T, 'Tdlin': Tdlin, 'V':V, 'dQdV': dQdV, 't':t}\n",
    "        cycle_dict[str(j)] = cd\n",
    "\n",
    "    cell_dict = {'cycle_life': cl, 'charge_policy':policy, 'summary': summary, 'cycles': cycle_dict}\n",
    "    key = 'b1c' + str(i)\n",
    "    bat_dict[key]=   cell_dict\n",
    "with open('batch1.pkl','wb') as fp:\n",
    "        pickle.dump(bat_dict,fp)"
   ]
  },
  {
   "cell_type": "markdown",
   "metadata": {},
   "source": [
    "loading .pkl files"
   ]
  },
  {
   "cell_type": "code",
   "execution_count": null,
   "metadata": {
    "vscode": {
     "languageId": "plaintext"
    }
   },
   "outputs": [],
   "source": [
    "from google.colab import drive\n",
    "drive.mount('/content/drive')\n",
    "\n",
    "import pickle\n",
    "import numpy as np\n",
    "\n",
    "batch1 = pickle.load(open('/content/drive/MyDrive/Colab Notebooks/batch1.pkl', 'rb')) # 46개, 5개 삭제해서 41개로, 그리고 b1c0, b1c1, b1c2, b1c3, b1c4는 batch2 결과와 연결됨\n",
    "batch2 = pickle.load(open('/content/drive/MyDrive/Colab Notebooks/batch2.pkl', 'rb')) # 48개, 5개 삭제해서 43개로\n",
    "batch3 = pickle.load(open('/content/drive/MyDrive/Colab Notebooks/batch3.pkl', 'rb')) # 46개, 6개 삭제해서 40개로\n",
    "\n",
    "del batch1['b1c8']\n",
    "del batch1['b1c10']\n",
    "del batch1['b1c12']\n",
    "del batch1['b1c13']\n",
    "del batch1['b1c22']\n",
    "\n",
    "batch1_keys = ['b1c0', 'b1c1', 'b1c2', 'b1c3', 'b1c4']\n",
    "batch2_keys = ['b2c7', 'b2c8', 'b2c9', 'b2c15', 'b2c16'] # b1c0, b1c1, b1c2, b1c3, b1c4는 batch2 결과와 연결됨, 논문 서포팅을 참조하자\n",
    "\n",
    "add_len = [662, 981, 1060, 208, 482]\n",
    "\n",
    "for i, bk in enumerate(batch1_keys):\n",
    "    batch1[bk]['cycle_life'] = batch1[bk]['cycle_life'] + add_len[i]\n",
    "    for j in batch1[bk]['summary'].keys():\n",
    "        if j == 'cycle':\n",
    "            batch1[bk]['summary'][j] = np.hstack((batch1[bk]['summary'][j], batch2[batch2_keys[i]]['summary'][j] + len(batch1[bk]['summary'][j])))\n",
    "        else:\n",
    "            batch1[bk]['summary'][j] = np.hstack((batch1[bk]['summary'][j], batch2[batch2_keys[i]]['summary'][j]))\n",
    "    last_cycle = len(batch1[bk]['cycles'].keys())\n",
    "    for j, jk in enumerate(batch2[batch2_keys[i]]['cycles'].keys()):\n",
    "        batch1[bk]['cycles'][str(last_cycle + j)] = batch2[batch2_keys[i]]['cycles'][jk]\n",
    "\n",
    "del batch2['b2c7']\n",
    "del batch2['b2c8']\n",
    "del batch2['b2c9']\n",
    "del batch2['b2c15']\n",
    "del batch2['b2c16']\n",
    "\n",
    "del batch3['b3c37']\n",
    "del batch3['b3c2']\n",
    "del batch3['b3c23']\n",
    "del batch3['b3c32']\n",
    "del batch3['b3c38']\n",
    "del batch3['b3c39']\n",
    "\n",
    "numBat1 = len(batch1.keys())\n",
    "numBat2 = len(batch2.keys())\n",
    "numBat3 = len(batch3.keys())\n",
    "numBat = numBat1 + numBat2 + numBat3\n",
    "\n",
    "bat_dict = {**batch1, **batch2, **batch3}"
   ]
  },
  {
   "cell_type": "markdown",
   "metadata": {},
   "source": [
    "To check the data is well loaded. Try the code below. \n",
    "If it works, then it means you did it! "
   ]
  },
  {
   "cell_type": "code",
   "execution_count": null,
   "metadata": {
    "vscode": {
     "languageId": "plaintext"
    }
   },
   "outputs": [],
   "source": [
    "bat_dict['b1c0']['cycle_life']\n",
    "bat_dict['b1c0']['charge_policy']\n",
    "bat_dict['b1c0']['summary']\n",
    "bat_dict['b1c0']['cycles'].keys()"
   ]
  },
  {
   "cell_type": "markdown",
   "metadata": {},
   "source": [
    "To read Data,\n",
    "first you need to understand what 'b1c0' means.  \n",
    "\n",
    "b means battery  \n",
    "\n",
    "1 means the date the experiement was taken  \n",
    "\n",
    "c means cell  \n",
    "\n",
    "0 mean cell number  \n",
    "\n",
    "each battery have 'cycle_life', 'charge_policy', 'summary', 'cycles' and you can browse it with the method .keys()"
   ]
  },
  {
   "cell_type": "code",
   "execution_count": null,
   "metadata": {
    "vscode": {
     "languageId": "plaintext"
    }
   },
   "outputs": [],
   "source": [
    "import matplotlib.pyplot as plt\n",
    "\n",
    "#dict_keys(['I', 'Qc', 'Qd', 'Qdlin', 'T', 'Tdlin', 'V', 'dQdV', 't'])\n",
    "\n",
    "plt.scatter(bat_dict['b1c1']['cycles']['7']['t'], bat_dict['b1c1']['cycles']['7']['I'], s=1, color='#1A8250')\n",
    "\n",
    "plt.xlabel('Time (t)', size=12, labelpad=10)\n",
    "plt.ylabel('Current (I)', size=12, labelpad=10)\n",
    "plt.yticks(size=12)\n",
    "plt.xticks(size=12)\n",
    "plt.show()"
   ]
  },
  {
   "cell_type": "code",
   "execution_count": null,
   "metadata": {
    "vscode": {
     "languageId": "plaintext"
    }
   },
   "outputs": [],
   "source": [
    "import matplotlib.pyplot as plt\n",
    "\n",
    "for i in bat_dict['b1c30']['cycles']:\n",
    "    voltage = bat_dict['b1c30']['cycles'][i]['V']\n",
    "    capacity = bat_dict['b1c30']['cycles'][i]['Qd']\n",
    "    plt.scatter(voltage, capacity, s=1)\n",
    "\n",
    "    # V가 2.0 미만이거나 Qd가 0.1 이하인 값 제거\n",
    "    filtered_voltage = []\n",
    "    filtered_capacity = []\n",
    "    for v, qd in zip(voltage, capacity):\n",
    "        if v >= 2.0 and qd > 1:  # Qd의 필터링 조건을 0.1 이상으로 변경\n",
    "            filtered_voltage.append(v)\n",
    "            filtered_capacity.append(qd)\n",
    "\n",
    "plt.xlabel('Voltage (V)', size=12, labelpad=10)\n",
    "plt.ylabel('Dischargecapacity (Qd)', size=12, labelpad=10)\n",
    "plt.yticks(size=12)\n",
    "plt.xticks(size=12)\n",
    "\n",
    "# x축 시작점을 2.0에서 시작하도록 설정\n",
    "plt.xlim(2.0)  # max(filtered_voltage) + 0.1을 사용하여 x축의 끝 범위를 조금 더 넓혀주어 모든 데이터 포인트를 확실히 보여줌\n",
    "plt.show()"
   ]
  },
  {
   "cell_type": "code",
   "execution_count": null,
   "metadata": {
    "vscode": {
     "languageId": "plaintext"
    }
   },
   "outputs": [],
   "source": [
    "import matplotlib.pyplot as plt\n",
    "\n",
    "plt.figure(figsize=(9, 3))\n",
    "\n",
    "for i in bat_dict.keys():\n",
    "  plt.scatter(bat_dict[i]['summary']['cycle'], bat_dict[i]['summary']['QD'], s=3)\n",
    "\n",
    "plt.xlim(0, 1000)\n",
    "plt.ylim(0.88, 1.10)\n",
    "plt.show()"
   ]
  },
  {
   "cell_type": "markdown",
   "metadata": {},
   "source": [
    "Below is the battery prediction code "
   ]
  },
  {
   "cell_type": "code",
   "execution_count": null,
   "metadata": {
    "vscode": {
     "languageId": "plaintext"
    }
   },
   "outputs": [],
   "source": [
    "import matplotlib.pyplot as plt\n",
    "import numpy as np\n",
    "from keras import models\n",
    "from keras import layers\n",
    "from sklearn.model_selection import train_test_split\n",
    "from sklearn.preprocessing import StandardScaler\n",
    "from scipy import stats\n",
    "\n",
    "x_train, x_test, y_train, y_test = train_test_split(q10_100_ml, cycles_group, test_size=0.2, random_state=2)\n",
    "\n",
    "x_train = np.array(x_train)\n",
    "x_test = np.array(x_test)\n",
    "y_train = np.array(y_train)\n",
    "y_test = np.array(y_test)\n",
    "\n",
    "transformer = StandardScaler()\n",
    "transformer.fit(x_train)\n",
    "\n",
    "x_train = transformer.transform(x_train)\n",
    "x_test = transformer.transform(x_test)\n",
    "\n",
    "model = models.Sequential()\n",
    "model.add(layers.Dense(50, input_dim=70, activation='relu'))\n",
    "model.add(layers.Dense(30, activation='relu'))\n",
    "model.add(layers.Dense(10, activation='relu'))\n",
    "model.add(layers.Dense(1, activation='linear'))\n",
    "\n",
    "model.compile(optimizer='adam', loss='mae', metrics='mse')\n",
    "#model.fit(x_train, y_train, batch_size=9, epochs=80)\n",
    "\n",
    "history = model.fit(x_train, y_train, batch_size=9, epochs=200, validation_data=(x_test, y_test))\n",
    "\n",
    "plt.figure(figsize=(14, 10))\n",
    "plt.plot(history.history['loss'], color='g')\n",
    "plt.plot(history.history['val_loss'], color='r')\n",
    "plt.xlabel('Epoch', size=22, labelpad=10)\n",
    "plt.ylabel('Loss', size=22, labelpad=10)\n",
    "\n",
    "plt.yticks(size=16)\n",
    "plt.xticks(size=16)\n",
    "plt.legend(['train','test'], frameon=False, fontsize=22)\n",
    "plt.show()\n",
    "\n",
    "plt.figure(figsize=(14, 10))\n",
    "\n",
    "expt_val = []\n",
    "pred_val = []\n",
    "\n",
    "for i in range(len(y_test)):\n",
    "    y_pred = model.predict(x_test)\n",
    "#    print(\"정답값 = {}, 예측값 = {}\".format(y_test[i], y_pred[i][0]))\n",
    "    plt.scatter(y_test[i], y_pred[i][0], color='g')\n",
    "    expt_val.append(y_test[i])\n",
    "    pred_val.append(y_pred[i][0])\n",
    "\n",
    "plt.plot([0, 3000], [0, 3000], 'c--')\n",
    "plt.xlim(0, 2500)\n",
    "plt.ylim(0, 2500)\n",
    "plt.xlabel('Experimental Cycle Life', size=22, labelpad=10)\n",
    "plt.ylabel('Predicted Cycle Life', size=22, labelpad=10)\n",
    "plt.yticks(size=16)\n",
    "plt.xticks(size=16)\n",
    "plt.show()\n",
    "\n",
    "pc = stats.pearsonr(expt_val, pred_val)\n",
    "print(pc)"
   ]
  }
 ],
 "metadata": {
  "language_info": {
   "name": "python"
  }
 },
 "nbformat": 4,
 "nbformat_minor": 2
}
